{
 "cells": [
  {
   "cell_type": "markdown",
   "id": "6c980422-0f8c-465a-b4b4-6525c56e9d58",
   "metadata": {},
   "source": [
    "<ol>\n",
    "  <li>Data science is the research of data in an organization, and its exploitation for revenue and deeper understanding of the company</li>\n",
    "  <li>Structured data is predefined/set value data, like SQL table vs Unstructured data which is not predefined, like images, videos etc...</li>\n",
    "  <li>EDA is the data analysis that categorize the data and visually represents it</li>\n",
    "  <li>The 2 goals are, answering company questions in order to make decisions, and solving problems</li>\n",
    "<li>Gen-Ai Tools are tools that generate data like, text, images, videos etc...</li>\n",
    "    <li>Numpy, Pandas and Matplotlib</li>\n",
    "    <li>Its an essential tool as it offers a great visual use in its interface and combines code with html (Markdown), the use of ! before a command is engaging in a cmd command</li>\n",
    "    \n",
    "</ol>\n"
   ]
  },
  {
   "cell_type": "code",
   "execution_count": 6,
   "id": "7c9f7c0e-3ddf-40f9-8849-cbd2f6f25eb3",
   "metadata": {},
   "outputs": [
    {
     "name": "stdout",
     "output_type": "stream",
     "text": [
      "1\n",
      "2\n",
      "3\n",
      "4\n",
      "5\n",
      "6\n",
      "7\n",
      "8\n",
      "9\n",
      "10\n"
     ]
    }
   ],
   "source": [
    "for i in range(1,11):\n",
    "    print(i)"
   ]
  },
  {
   "cell_type": "code",
   "execution_count": 10,
   "id": "5d2983c5-1872-485b-906e-0c38c4996ab4",
   "metadata": {},
   "outputs": [],
   "source": [
    "import numpy as np"
   ]
  },
  {
   "cell_type": "code",
   "execution_count": 12,
   "id": "3aab5007-9787-4f8c-b394-a40f8771018f",
   "metadata": {},
   "outputs": [],
   "source": [
    "arr1 = np.array([1, 2, 3])"
   ]
  },
  {
   "cell_type": "markdown",
   "id": "07d4fe10-c397-4e7f-89be-51bbcc46c1f1",
   "metadata": {},
   "source": [
    "<h1"
   ]
  },
  {
   "cell_type": "markdown",
   "id": "af1f834e-2b9f-4c9d-a840-e7ac5794c5cf",
   "metadata": {},
   "source": [
    "![This is a dream of Googles AI](https://assets.iflscience.com/assets/articleNo/28978/aImg/5391/1464365023-668-google-s-ai-can-dream-and-here-s-what-it-looks-like-l.jpg)"
   ]
  }
 ],
 "metadata": {
  "kernelspec": {
   "display_name": "Python 3 (ipykernel)",
   "language": "python",
   "name": "python3"
  },
  "language_info": {
   "codemirror_mode": {
    "name": "ipython",
    "version": 3
   },
   "file_extension": ".py",
   "mimetype": "text/x-python",
   "name": "python",
   "nbconvert_exporter": "python",
   "pygments_lexer": "ipython3",
   "version": "3.12.7"
  }
 },
 "nbformat": 4,
 "nbformat_minor": 5
}
